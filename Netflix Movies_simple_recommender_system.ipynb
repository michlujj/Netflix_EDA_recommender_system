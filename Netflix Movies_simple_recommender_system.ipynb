{
 "cells": [
  {
   "cell_type": "code",
   "execution_count": 1,
   "id": "8a3c6ebb",
   "metadata": {},
   "outputs": [],
   "source": [
    "## Netflix Movies simple recommender system"
   ]
  },
  {
   "cell_type": "code",
   "execution_count": 3,
   "id": "ff3ebc2d",
   "metadata": {},
   "outputs": [],
   "source": [
    "import pandas as pd\n",
    "import numpy as np\n",
    "import matplotlib.pyplot as plt\n",
    "import seaborn as sns"
   ]
  },
  {
   "cell_type": "code",
   "execution_count": 4,
   "id": "12c1e805",
   "metadata": {},
   "outputs": [],
   "source": [
    "%matplotlib inline"
   ]
  },
  {
   "cell_type": "code",
   "execution_count": 5,
   "id": "6aa67419",
   "metadata": {},
   "outputs": [],
   "source": [
    "# to import netflix dataset\n",
    "df = pd.read_csv('C:/Users/miche/Desktop/machine_learning/n_movies.csv')"
   ]
  },
  {
   "cell_type": "code",
   "execution_count": 6,
   "id": "c8e0b235",
   "metadata": {},
   "outputs": [
    {
     "data": {
      "text/html": [
       "<div>\n",
       "<style scoped>\n",
       "    .dataframe tbody tr th:only-of-type {\n",
       "        vertical-align: middle;\n",
       "    }\n",
       "\n",
       "    .dataframe tbody tr th {\n",
       "        vertical-align: top;\n",
       "    }\n",
       "\n",
       "    .dataframe thead th {\n",
       "        text-align: right;\n",
       "    }\n",
       "</style>\n",
       "<table border=\"1\" class=\"dataframe\">\n",
       "  <thead>\n",
       "    <tr style=\"text-align: right;\">\n",
       "      <th></th>\n",
       "      <th>title</th>\n",
       "      <th>year</th>\n",
       "      <th>certificate</th>\n",
       "      <th>duration</th>\n",
       "      <th>genre</th>\n",
       "      <th>rating</th>\n",
       "      <th>description</th>\n",
       "      <th>stars</th>\n",
       "      <th>votes</th>\n",
       "    </tr>\n",
       "  </thead>\n",
       "  <tbody>\n",
       "    <tr>\n",
       "      <th>0</th>\n",
       "      <td>Cobra Kai</td>\n",
       "      <td>(2018– )</td>\n",
       "      <td>TV-14</td>\n",
       "      <td>30 min</td>\n",
       "      <td>Action, Comedy, Drama</td>\n",
       "      <td>8.5</td>\n",
       "      <td>Decades after their 1984 All Valley Karate Tou...</td>\n",
       "      <td>['Ralph Macchio, ', 'William Zabka, ', 'Courtn...</td>\n",
       "      <td>177,031</td>\n",
       "    </tr>\n",
       "    <tr>\n",
       "      <th>1</th>\n",
       "      <td>The Crown</td>\n",
       "      <td>(2016– )</td>\n",
       "      <td>TV-MA</td>\n",
       "      <td>58 min</td>\n",
       "      <td>Biography, Drama, History</td>\n",
       "      <td>8.7</td>\n",
       "      <td>Follows the political rivalries and romance of...</td>\n",
       "      <td>['Claire Foy, ', 'Olivia Colman, ', 'Imelda St...</td>\n",
       "      <td>199,885</td>\n",
       "    </tr>\n",
       "    <tr>\n",
       "      <th>2</th>\n",
       "      <td>Better Call Saul</td>\n",
       "      <td>(2015–2022)</td>\n",
       "      <td>TV-MA</td>\n",
       "      <td>46 min</td>\n",
       "      <td>Crime, Drama</td>\n",
       "      <td>8.9</td>\n",
       "      <td>The trials and tribulations of criminal lawyer...</td>\n",
       "      <td>['Bob Odenkirk, ', 'Rhea Seehorn, ', 'Jonathan...</td>\n",
       "      <td>501,384</td>\n",
       "    </tr>\n",
       "    <tr>\n",
       "      <th>3</th>\n",
       "      <td>Devil in Ohio</td>\n",
       "      <td>(2022)</td>\n",
       "      <td>TV-MA</td>\n",
       "      <td>356 min</td>\n",
       "      <td>Drama, Horror, Mystery</td>\n",
       "      <td>5.9</td>\n",
       "      <td>When a psychiatrist shelters a mysterious cult...</td>\n",
       "      <td>['Emily Deschanel, ', 'Sam Jaeger, ', 'Gerardo...</td>\n",
       "      <td>9,773</td>\n",
       "    </tr>\n",
       "    <tr>\n",
       "      <th>4</th>\n",
       "      <td>Cyberpunk: Edgerunners</td>\n",
       "      <td>(2022– )</td>\n",
       "      <td>TV-MA</td>\n",
       "      <td>24 min</td>\n",
       "      <td>Animation, Action, Adventure</td>\n",
       "      <td>8.6</td>\n",
       "      <td>A Street Kid trying to survive in a technology...</td>\n",
       "      <td>['Zach Aguilar, ', 'Kenichiro Ohashi, ', 'Emi ...</td>\n",
       "      <td>15,413</td>\n",
       "    </tr>\n",
       "  </tbody>\n",
       "</table>\n",
       "</div>"
      ],
      "text/plain": [
       "                    title         year certificate duration  \\\n",
       "0               Cobra Kai     (2018– )       TV-14   30 min   \n",
       "1               The Crown     (2016– )       TV-MA   58 min   \n",
       "2        Better Call Saul  (2015–2022)       TV-MA   46 min   \n",
       "3           Devil in Ohio       (2022)       TV-MA  356 min   \n",
       "4  Cyberpunk: Edgerunners     (2022– )       TV-MA   24 min   \n",
       "\n",
       "                          genre  rating  \\\n",
       "0         Action, Comedy, Drama     8.5   \n",
       "1     Biography, Drama, History     8.7   \n",
       "2                  Crime, Drama     8.9   \n",
       "3        Drama, Horror, Mystery     5.9   \n",
       "4  Animation, Action, Adventure     8.6   \n",
       "\n",
       "                                         description  \\\n",
       "0  Decades after their 1984 All Valley Karate Tou...   \n",
       "1  Follows the political rivalries and romance of...   \n",
       "2  The trials and tribulations of criminal lawyer...   \n",
       "3  When a psychiatrist shelters a mysterious cult...   \n",
       "4  A Street Kid trying to survive in a technology...   \n",
       "\n",
       "                                               stars    votes  \n",
       "0  ['Ralph Macchio, ', 'William Zabka, ', 'Courtn...  177,031  \n",
       "1  ['Claire Foy, ', 'Olivia Colman, ', 'Imelda St...  199,885  \n",
       "2  ['Bob Odenkirk, ', 'Rhea Seehorn, ', 'Jonathan...  501,384  \n",
       "3  ['Emily Deschanel, ', 'Sam Jaeger, ', 'Gerardo...    9,773  \n",
       "4  ['Zach Aguilar, ', 'Kenichiro Ohashi, ', 'Emi ...   15,413  "
      ]
     },
     "execution_count": 6,
     "metadata": {},
     "output_type": "execute_result"
    }
   ],
   "source": [
    "df.head()"
   ]
  },
  {
   "cell_type": "code",
   "execution_count": 7,
   "id": "f24cf3ee",
   "metadata": {},
   "outputs": [
    {
     "data": {
      "text/plain": [
       "title             0\n",
       "year            527\n",
       "certificate    3453\n",
       "duration       2036\n",
       "genre            73\n",
       "rating         1173\n",
       "description       0\n",
       "stars             0\n",
       "votes          1173\n",
       "dtype: int64"
      ]
     },
     "execution_count": 7,
     "metadata": {},
     "output_type": "execute_result"
    }
   ],
   "source": [
    "# to check for missing values in dataset\n",
    "df.isnull().sum()"
   ]
  },
  {
   "cell_type": "code",
   "execution_count": 8,
   "id": "9191d1b9",
   "metadata": {},
   "outputs": [],
   "source": [
    "# to check for duplicated values\n",
    "duplicates = df[df.duplicated()]"
   ]
  },
  {
   "cell_type": "code",
   "execution_count": 26,
   "id": "0942467c",
   "metadata": {},
   "outputs": [
    {
     "data": {
      "text/html": [
       "<div>\n",
       "<style scoped>\n",
       "    .dataframe tbody tr th:only-of-type {\n",
       "        vertical-align: middle;\n",
       "    }\n",
       "\n",
       "    .dataframe tbody tr th {\n",
       "        vertical-align: top;\n",
       "    }\n",
       "\n",
       "    .dataframe thead th {\n",
       "        text-align: right;\n",
       "    }\n",
       "</style>\n",
       "<table border=\"1\" class=\"dataframe\">\n",
       "  <thead>\n",
       "    <tr style=\"text-align: right;\">\n",
       "      <th></th>\n",
       "      <th>title</th>\n",
       "      <th>year</th>\n",
       "      <th>certificate</th>\n",
       "      <th>duration</th>\n",
       "      <th>genre</th>\n",
       "      <th>rating</th>\n",
       "      <th>description</th>\n",
       "      <th>stars</th>\n",
       "      <th>votes</th>\n",
       "    </tr>\n",
       "  </thead>\n",
       "  <tbody>\n",
       "  </tbody>\n",
       "</table>\n",
       "</div>"
      ],
      "text/plain": [
       "Empty DataFrame\n",
       "Columns: [title, year, certificate, duration, genre, rating, description, stars, votes]\n",
       "Index: []"
      ]
     },
     "execution_count": 26,
     "metadata": {},
     "output_type": "execute_result"
    }
   ],
   "source": [
    "# there are no duplicates in dataset\n",
    "duplicates"
   ]
  },
  {
   "cell_type": "code",
   "execution_count": 27,
   "id": "0d96c0f5",
   "metadata": {},
   "outputs": [
    {
     "name": "stdout",
     "output_type": "stream",
     "text": [
      "<class 'pandas.core.frame.DataFrame'>\n",
      "RangeIndex: 9957 entries, 0 to 9956\n",
      "Data columns (total 9 columns):\n",
      " #   Column       Non-Null Count  Dtype  \n",
      "---  ------       --------------  -----  \n",
      " 0   title        9957 non-null   object \n",
      " 1   year         9430 non-null   object \n",
      " 2   certificate  6504 non-null   object \n",
      " 3   duration     7921 non-null   object \n",
      " 4   genre        9884 non-null   object \n",
      " 5   rating       8784 non-null   float64\n",
      " 6   description  9957 non-null   object \n",
      " 7   stars        9957 non-null   object \n",
      " 8   votes        8784 non-null   object \n",
      "dtypes: float64(1), object(8)\n",
      "memory usage: 700.2+ KB\n"
     ]
    }
   ],
   "source": [
    "# to check if variables are the correct data types\n",
    "# to convert votes into numeric\n",
    "df.info()"
   ]
  },
  {
   "cell_type": "code",
   "execution_count": 11,
   "id": "43ab2888",
   "metadata": {},
   "outputs": [
    {
     "data": {
      "image/png": "[encoded data removed]",
      "text/plain": [
       "<Figure size 1000x600 with 1 Axes>"
      ]
     },
     "metadata": {},
     "output_type": "display_data"
    }
   ],
   "source": [
    "# to plot an histogram of continous variable 'rating'\n",
    "plt.figure(figsize=(10,6), dpi=100)\n",
    "sns.histplot(data=df, x='rating', kde=True, edgecolor=None)\n",
    "plt.title('Distribution of Rating');"
   ]
  },
  {
   "cell_type": "code",
   "execution_count": 28,
   "id": "aafb48f9",
   "metadata": {},
   "outputs": [
    {
     "data": {
      "text/plain": [
       "title\n",
       "1899                               9.600000\n",
       "Breaking Bad                       9.500000\n",
       "Story Time Book: Read-Along        9.400000\n",
       "Elesin Oba: The King's Horseman    9.400000\n",
       "Cosmos: A Spacetime Odyssey        9.300000\n",
       "Our Planet                         9.300000\n",
       "Reply 1988                         9.200000\n",
       "Dark                               9.111111\n",
       "The Last Dance                     9.100000\n",
       "Hans Zimmer Live in Prague         9.100000\n",
       "Name: rating, dtype: float64"
      ]
     },
     "execution_count": 28,
     "metadata": {},
     "output_type": "execute_result"
    }
   ],
   "source": [
    "# exploratory data analysis\n",
    "# to print movie titles with the highest average rating\n",
    "df.groupby('title')['rating'].mean().sort_values(ascending=False).head(10)"
   ]
  },
  {
   "cell_type": "code",
   "execution_count": 32,
   "id": "4d38a308",
   "metadata": {},
   "outputs": [],
   "source": [
    "df['votes'] = df['votes'].str.replace(',','')"
   ]
  },
  {
   "cell_type": "code",
   "execution_count": 34,
   "id": "72fcfeea",
   "metadata": {},
   "outputs": [
    {
     "data": {
      "text/plain": [
       "0       177031\n",
       "1       199885\n",
       "2       501384\n",
       "3         9773\n",
       "4        15413\n",
       "         ...  \n",
       "9952      3130\n",
       "9953    970067\n",
       "9954    199898\n",
       "9955    439601\n",
       "9956      9786\n",
       "Name: votes, Length: 9957, dtype: object"
      ]
     },
     "execution_count": 34,
     "metadata": {},
     "output_type": "execute_result"
    }
   ],
   "source": [
    "df['votes']"
   ]
  },
  {
   "cell_type": "code",
   "execution_count": 36,
   "id": "fcfd71fc",
   "metadata": {},
   "outputs": [],
   "source": [
    "# to convert 'votes' to numeric variable\n",
    "df['votes'] = pd.to_numeric(df['votes'])"
   ]
  },
  {
   "cell_type": "code",
   "execution_count": 52,
   "id": "cec3c45c",
   "metadata": {},
   "outputs": [
    {
     "data": {
      "text/plain": [
       "0       177031.0\n",
       "1       199885.0\n",
       "2       501384.0\n",
       "3         9773.0\n",
       "4        15413.0\n",
       "          ...   \n",
       "9952      3130.0\n",
       "9953    970067.0\n",
       "9954    199898.0\n",
       "9955    439601.0\n",
       "9956      9786.0\n",
       "Name: votes, Length: 9957, dtype: float64"
      ]
     },
     "execution_count": 52,
     "metadata": {},
     "output_type": "execute_result"
    }
   ],
   "source": [
    "df['votes']"
   ]
  },
  {
   "cell_type": "code",
   "execution_count": 57,
   "id": "9f14afbc",
   "metadata": {},
   "outputs": [
    {
     "data": {
      "image/png": "[encoded data removed]",
      "text/plain": [
       "<Figure size 640x480 with 1 Axes>"
      ]
     },
     "metadata": {},
     "output_type": "display_data"
    }
   ],
   "source": [
    "df['votes'].hist()\n",
    "plt.title('Histogram of total votes');"
   ]
  },
  {
   "cell_type": "code",
   "execution_count": 60,
   "id": "20f44f38",
   "metadata": {},
   "outputs": [
    {
     "data": {
      "image/png": "[encoded data removed]",
      "text/plain": [
       "<Figure size 600x600 with 3 Axes>"
      ]
     },
     "metadata": {},
     "output_type": "display_data"
    }
   ],
   "source": [
    "sns.jointplot(data=df, x='rating', y='votes', color='green')\n",
    "plt.title('Joint plot of numeric variables');"
   ]
  },
  {
   "cell_type": "code",
   "execution_count": 43,
   "id": "a708c968",
   "metadata": {},
   "outputs": [
    {
     "data": {
      "text/plain": [
       "title\n",
       "The Lord of the Rings: The Fellowship of the Ring    3688130.0\n",
       "Breaking Bad                                         3662699.0\n",
       "Stranger Things                                      2477471.0\n",
       "Friends                                              1958852.0\n",
       "The Walking Dead                                     1940127.0\n",
       "The Lord of the Rings: The Return of the King        1819157.0\n",
       "The Lord of the Rings: The Two Towers                1642708.0\n",
       "Gladiator                                            1481531.0\n",
       "The Departed                                         1310171.0\n",
       "Titanic                                              1158746.0\n",
       "Name: votes, dtype: float64"
      ]
     },
     "execution_count": 43,
     "metadata": {},
     "output_type": "execute_result"
    }
   ],
   "source": [
    "# to print movies with the highest vote\n",
    "df.groupby('title')['votes'].sum().sort_values(ascending=False).head(10)"
   ]
  },
  {
   "cell_type": "code",
   "execution_count": 44,
   "id": "4550e359",
   "metadata": {},
   "outputs": [
    {
     "data": {
      "text/plain": [
       "6.764515027322403"
      ]
     },
     "execution_count": 44,
     "metadata": {},
     "output_type": "execute_result"
    }
   ],
   "source": [
    "# to calculate the mean of the vote average column\n",
    "# the average rating of a movie on IMDB is about 6.76 on a scale of 10\n",
    "C = df['rating'].mean()\n",
    "C"
   ]
  },
  {
   "cell_type": "code",
   "execution_count": 45,
   "id": "17f9b327",
   "metadata": {},
   "outputs": [
    {
     "data": {
      "text/plain": [
       "30836.199999999993"
      ]
     },
     "execution_count": 45,
     "metadata": {},
     "output_type": "execute_result"
    }
   ],
   "source": [
    "# to calculate the number of votes received by movie in the 90th percentile using the .quantile() method\n",
    "# 30836.19 is the minimum number of votes required to be in the chart\n",
    "m = df['votes'].quantile(0.9)\n",
    "m"
   ]
  },
  {
   "cell_type": "code",
   "execution_count": 25,
   "id": "47b2d85f",
   "metadata": {},
   "outputs": [
    {
     "data": {
      "text/plain": [
       "0       177,031\n",
       "1       199,885\n",
       "2       501,384\n",
       "3         9,773\n",
       "4        15,413\n",
       "         ...   \n",
       "9952      3,130\n",
       "9953    970,067\n",
       "9954    199,898\n",
       "9955    439,601\n",
       "9956      9,786\n",
       "Name: votes, Length: 9957, dtype: object"
      ]
     },
     "execution_count": 25,
     "metadata": {},
     "output_type": "execute_result"
    }
   ],
   "source": [
    "df['votes']"
   ]
  },
  {
   "cell_type": "code",
   "execution_count": 46,
   "id": "4da73736",
   "metadata": {},
   "outputs": [
    {
     "data": {
      "text/plain": [
       "(879, 9)"
      ]
     },
     "execution_count": 46,
     "metadata": {},
     "output_type": "execute_result"
    }
   ],
   "source": [
    "# to filter out movies having greater than equal to 30836.19 vote counts\n",
    "# to create a copy of df dataframe using the copy() method\n",
    "# it uses the loc method to select rows where the value in the vote_count is >= m and assigning it to new df: q_movies\n",
    "q_movies = df.copy().loc[df['votes']>=m]\n",
    "q_movies.shape"
   ]
  },
  {
   "cell_type": "code",
   "execution_count": 47,
   "id": "bd084c80",
   "metadata": {},
   "outputs": [
    {
     "data": {
      "text/plain": [
       "(9957, 9)"
      ]
     },
     "execution_count": 47,
     "metadata": {},
     "output_type": "execute_result"
    }
   ],
   "source": [
    "# q_movies, there are around 8.8% movies with vote count more than 30836.1 and qualified to be on the list\n",
    "df.shape"
   ]
  },
  {
   "cell_type": "code",
   "execution_count": 50,
   "id": "9663ee4b",
   "metadata": {},
   "outputs": [],
   "source": [
    "# most important step: to calculate the weighted rating for each qualified movie\n",
    "# Define a function, weighted_rating():\n",
    "# Function that computes the weighted rating of each movie\n",
    "def weighted_rating(x, m=m, C=C):\n",
    "    v = x['votes']\n",
    "    R = x['rating']\n",
    "      # Calculation based on the IMDB formula\n",
    "    return (v/(v+m)* R) + (m/(m+v) * C)"
   ]
  },
  {
   "cell_type": "code",
   "execution_count": 61,
   "id": "39e1f532",
   "metadata": {},
   "outputs": [],
   "source": [
    "# to define a new feature 'score' and calculate its value with 'weighted rating'\n",
    "q_movies['score'] = q_movies.apply(weighted_rating, axis=1)"
   ]
  },
  {
   "cell_type": "code",
   "execution_count": 62,
   "id": "598a32ab",
   "metadata": {},
   "outputs": [
    {
     "data": {
      "text/html": [
       "<div>\n",
       "<style scoped>\n",
       "    .dataframe tbody tr th:only-of-type {\n",
       "        vertical-align: middle;\n",
       "    }\n",
       "\n",
       "    .dataframe tbody tr th {\n",
       "        vertical-align: top;\n",
       "    }\n",
       "\n",
       "    .dataframe thead th {\n",
       "        text-align: right;\n",
       "    }\n",
       "</style>\n",
       "<table border=\"1\" class=\"dataframe\">\n",
       "  <thead>\n",
       "    <tr style=\"text-align: right;\">\n",
       "      <th></th>\n",
       "      <th>title</th>\n",
       "      <th>votes</th>\n",
       "      <th>rating</th>\n",
       "      <th>score</th>\n",
       "    </tr>\n",
       "  </thead>\n",
       "  <tbody>\n",
       "    <tr>\n",
       "      <th>0</th>\n",
       "      <td>Cobra Kai</td>\n",
       "      <td>177031.0</td>\n",
       "      <td>8.5</td>\n",
       "      <td>8.242548</td>\n",
       "    </tr>\n",
       "    <tr>\n",
       "      <th>1</th>\n",
       "      <td>The Crown</td>\n",
       "      <td>199885.0</td>\n",
       "      <td>8.7</td>\n",
       "      <td>8.441320</td>\n",
       "    </tr>\n",
       "    <tr>\n",
       "      <th>2</th>\n",
       "      <td>Better Call Saul</td>\n",
       "      <td>501384.0</td>\n",
       "      <td>8.9</td>\n",
       "      <td>8.776273</td>\n",
       "    </tr>\n",
       "    <tr>\n",
       "      <th>5</th>\n",
       "      <td>The Sandman</td>\n",
       "      <td>116358.0</td>\n",
       "      <td>7.8</td>\n",
       "      <td>7.583073</td>\n",
       "    </tr>\n",
       "    <tr>\n",
       "      <th>6</th>\n",
       "      <td>Rick and Morty</td>\n",
       "      <td>502160.0</td>\n",
       "      <td>9.2</td>\n",
       "      <td>9.059096</td>\n",
       "    </tr>\n",
       "    <tr>\n",
       "      <th>7</th>\n",
       "      <td>Breaking Bad</td>\n",
       "      <td>1831340.0</td>\n",
       "      <td>9.5</td>\n",
       "      <td>9.454702</td>\n",
       "    </tr>\n",
       "    <tr>\n",
       "      <th>10</th>\n",
       "      <td>Stranger Things</td>\n",
       "      <td>1149889.0</td>\n",
       "      <td>8.7</td>\n",
       "      <td>8.649452</td>\n",
       "    </tr>\n",
       "    <tr>\n",
       "      <th>12</th>\n",
       "      <td>The Walking Dead</td>\n",
       "      <td>970060.0</td>\n",
       "      <td>8.1</td>\n",
       "      <td>8.058856</td>\n",
       "    </tr>\n",
       "    <tr>\n",
       "      <th>18</th>\n",
       "      <td>Peaky Blinders</td>\n",
       "      <td>531058.0</td>\n",
       "      <td>8.8</td>\n",
       "      <td>8.688295</td>\n",
       "    </tr>\n",
       "    <tr>\n",
       "      <th>19</th>\n",
       "      <td>Fate: The Winx Saga</td>\n",
       "      <td>43179.0</td>\n",
       "      <td>6.9</td>\n",
       "      <td>6.843554</td>\n",
       "    </tr>\n",
       "    <tr>\n",
       "      <th>20</th>\n",
       "      <td>The Lord of the Rings: The Fellowship of the Ring</td>\n",
       "      <td>1844055.0</td>\n",
       "      <td>8.8</td>\n",
       "      <td>8.766523</td>\n",
       "    </tr>\n",
       "    <tr>\n",
       "      <th>21</th>\n",
       "      <td>Grey's Anatomy</td>\n",
       "      <td>303617.0</td>\n",
       "      <td>7.6</td>\n",
       "      <td>7.522969</td>\n",
       "    </tr>\n",
       "    <tr>\n",
       "      <th>22</th>\n",
       "      <td>Supernatural</td>\n",
       "      <td>439597.0</td>\n",
       "      <td>8.4</td>\n",
       "      <td>8.292796</td>\n",
       "    </tr>\n",
       "    <tr>\n",
       "      <th>23</th>\n",
       "      <td>American Horror Story</td>\n",
       "      <td>312970.0</td>\n",
       "      <td>8.0</td>\n",
       "      <td>7.889189</td>\n",
       "    </tr>\n",
       "    <tr>\n",
       "      <th>25</th>\n",
       "      <td>NCIS</td>\n",
       "      <td>145895.0</td>\n",
       "      <td>7.8</td>\n",
       "      <td>7.619328</td>\n",
       "    </tr>\n",
       "  </tbody>\n",
       "</table>\n",
       "</div>"
      ],
      "text/plain": [
       "                                                title      votes  rating  \\\n",
       "0                                           Cobra Kai   177031.0     8.5   \n",
       "1                                           The Crown   199885.0     8.7   \n",
       "2                                    Better Call Saul   501384.0     8.9   \n",
       "5                                         The Sandman   116358.0     7.8   \n",
       "6                                      Rick and Morty   502160.0     9.2   \n",
       "7                                        Breaking Bad  1831340.0     9.5   \n",
       "10                                    Stranger Things  1149889.0     8.7   \n",
       "12                                   The Walking Dead   970060.0     8.1   \n",
       "18                                     Peaky Blinders   531058.0     8.8   \n",
       "19                                Fate: The Winx Saga    43179.0     6.9   \n",
       "20  The Lord of the Rings: The Fellowship of the Ring  1844055.0     8.8   \n",
       "21                                     Grey's Anatomy   303617.0     7.6   \n",
       "22                                       Supernatural   439597.0     8.4   \n",
       "23                              American Horror Story   312970.0     8.0   \n",
       "25                                               NCIS   145895.0     7.8   \n",
       "\n",
       "       score  \n",
       "0   8.242548  \n",
       "1   8.441320  \n",
       "2   8.776273  \n",
       "5   7.583073  \n",
       "6   9.059096  \n",
       "7   9.454702  \n",
       "10  8.649452  \n",
       "12  8.058856  \n",
       "18  8.688295  \n",
       "19  6.843554  \n",
       "20  8.766523  \n",
       "21  7.522969  \n",
       "22  8.292796  \n",
       "23  7.889189  \n",
       "25  7.619328  "
      ]
     },
     "execution_count": 62,
     "metadata": {},
     "output_type": "execute_result"
    }
   ],
   "source": [
    "# to print first 15 movies\n",
    "q_movies[['title','votes','rating','score']].head(15)"
   ]
  },
  {
   "cell_type": "code",
   "execution_count": 63,
   "id": "80ac1751",
   "metadata": {},
   "outputs": [
    {
     "data": {
      "text/plain": [
       "0    Decades after their 1984 All Valley Karate Tou...\n",
       "1    Follows the political rivalries and romance of...\n",
       "2    The trials and tribulations of criminal lawyer...\n",
       "3    When a psychiatrist shelters a mysterious cult...\n",
       "4    A Street Kid trying to survive in a technology...\n",
       "Name: description, dtype: object"
      ]
     },
     "execution_count": 63,
     "metadata": {},
     "output_type": "execute_result"
    }
   ],
   "source": [
    "df['description'].head()"
   ]
  },
  {
   "cell_type": "code",
   "execution_count": 64,
   "id": "555995c0",
   "metadata": {},
   "outputs": [],
   "source": [
    "# to import TFIdfVectoriser from scikit-learn\n",
    "from sklearn.feature_extraction.text import TfidfVectorizer"
   ]
  },
  {
   "cell_type": "code",
   "execution_count": 65,
   "id": "cefe1fd7",
   "metadata": {},
   "outputs": [],
   "source": [
    "# to define a TF-IDF Vectoriser object. Removes all english stop words\n",
    "tfidf= TfidfVectorizer(stop_words='english')"
   ]
  },
  {
   "cell_type": "code",
   "execution_count": 66,
   "id": "def8eec0",
   "metadata": {},
   "outputs": [],
   "source": [
    "# to replace NaN with an empty string\n",
    "df['description'] = df['description'].fillna('')"
   ]
  },
  {
   "cell_type": "code",
   "execution_count": 67,
   "id": "a4abdf2b",
   "metadata": {},
   "outputs": [],
   "source": [
    "# to construct the required TF-IDF matrix by fitting and transforming the data\n",
    "tfidf_matrix = tfidf.fit_transform(df['description'])"
   ]
  },
  {
   "cell_type": "code",
   "execution_count": 68,
   "id": "19dd140b",
   "metadata": {},
   "outputs": [
    {
     "data": {
      "text/plain": [
       "(9957, 22061)"
      ]
     },
     "execution_count": 68,
     "metadata": {},
     "output_type": "execute_result"
    }
   ],
   "source": [
    "# to output the shape of tdif_matrix\n",
    "tfidf_matrix.shape"
   ]
  },
  {
   "cell_type": "code",
   "execution_count": 69,
   "id": "5ff69605",
   "metadata": {},
   "outputs": [
    {
     "data": {
      "text/plain": [
       "array(['darwen', 'darwin', 'darwinian', 'darín', 'das', 'dash', 'dashed',\n",
       "       'dashing', 'dashkin', 'dass'], dtype=object)"
      ]
     },
     "execution_count": 69,
     "metadata": {},
     "output_type": "execute_result"
    }
   ],
   "source": [
    "# array mapping from feature integer indices to feature name\n",
    "# [5000:5010] slice is used to get the feature names for the indices between 5000 and 5010 (exclusive).\n",
    "# https://stackoverflow.com/questions/70215049/attributeerror-tfidfvectorizer-object-has-no-attribute-get-feature-names-out\n",
    "tfidf.get_feature_names_out()[5000:5010]"
   ]
  },
  {
   "cell_type": "code",
   "execution_count": 70,
   "id": "ab973ad9",
   "metadata": {},
   "outputs": [],
   "source": [
    "# to import linear kernel\n",
    "from sklearn.metrics.pairwise import linear_kernel"
   ]
  },
  {
   "cell_type": "code",
   "execution_count": 71,
   "id": "c204f60e",
   "metadata": {},
   "outputs": [],
   "source": [
    "# to compute the cosine similarity matrix\n",
    "cosine_sim = linear_kernel(tfidf_matrix, tfidf_matrix)"
   ]
  },
  {
   "cell_type": "code",
   "execution_count": 72,
   "id": "62feb5f9",
   "metadata": {},
   "outputs": [
    {
     "data": {
      "text/plain": [
       "(9957, 9957)"
      ]
     },
     "execution_count": 72,
     "metadata": {},
     "output_type": "execute_result"
    }
   ],
   "source": [
    "cosine_sim.shape"
   ]
  },
  {
   "cell_type": "code",
   "execution_count": 73,
   "id": "25aa7e69",
   "metadata": {},
   "outputs": [
    {
     "data": {
      "text/plain": [
       "array([0., 1., 0., ..., 1., 0., 0.])"
      ]
     },
     "execution_count": 73,
     "metadata": {},
     "output_type": "execute_result"
    }
   ],
   "source": [
    "# to access the element at index 1 in the variable cosine_sim\n",
    "# By accessing the element at index 1, the code is retrieving the cosine similarity score between the second set of data and the first set of data.\n",
    "cosine_sim[1]"
   ]
  },
  {
   "cell_type": "code",
   "execution_count": 74,
   "id": "10591e3d",
   "metadata": {},
   "outputs": [],
   "source": [
    "# to construct a reverse map of indices and movie titles\n",
    "indices = pd.Series(df.index, index=df['title']).drop_duplicates()"
   ]
  },
  {
   "cell_type": "code",
   "execution_count": 75,
   "id": "3a81001c",
   "metadata": {},
   "outputs": [
    {
     "data": {
      "text/plain": [
       "title\n",
       "Cobra Kai                 0\n",
       "The Crown                 1\n",
       "Better Call Saul          2\n",
       "Devil in Ohio             3\n",
       "Cyberpunk: Edgerunners    4\n",
       "The Sandman               5\n",
       "Rick and Morty            6\n",
       "Breaking Bad              7\n",
       "The Imperfects            8\n",
       "Blonde                    9\n",
       "dtype: int64"
      ]
     },
     "execution_count": 75,
     "metadata": {},
     "output_type": "execute_result"
    }
   ],
   "source": [
    "# to return the first 10 elements of the list.\n",
    "indices[:10]"
   ]
  },
  {
   "cell_type": "code",
   "execution_count": 76,
   "id": "9c928a7f",
   "metadata": {},
   "outputs": [],
   "source": [
    "# to build a simple movie recommender system\n",
    "def get_recommendations(title, cosine_sim=cosine_sim):\n",
    "    # Get the index of the movie that matches the title\n",
    "    idx = indices[title]\n",
    "\n",
    "    # Get the pairwsie similarity scores of all movies with that movie\n",
    "    sim_scores = list(enumerate(cosine_sim[idx]))\n",
    "\n",
    "    # Sort the movies based on the similarity scores\n",
    "    sim_scores = sorted(sim_scores, key=lambda x: x[1], reverse=True)\n",
    "\n",
    "    # Get the scores of the 10 most similar movies\n",
    "    sim_scores = sim_scores[1:11]\n",
    "\n",
    "    # Get the movie indices\n",
    "    movie_indices = [i[0] for i in sim_scores]\n",
    "\n",
    "    # Return the top 10 most similar movies\n",
    "    return df['title'].iloc[movie_indices]"
   ]
  },
  {
   "cell_type": "code",
   "execution_count": 88,
   "id": "dde5fa74",
   "metadata": {},
   "outputs": [
    {
     "data": {
      "text/plain": [
       "8459                  Roman Empire\n",
       "1089                          Ezel\n",
       "370                        Revenge\n",
       "6412                Heebie Jeebies\n",
       "7067                 Devil May Cry\n",
       "1004    Once Upon a Time in Mexico\n",
       "985                   Roman Empire\n",
       "5919            Like Cotton Twines\n",
       "3957       Empresses in the Palace\n",
       "8460                  Roman Empire\n",
       "Name: title, dtype: object"
      ]
     },
     "execution_count": 88,
     "metadata": {},
     "output_type": "execute_result"
    }
   ],
   "source": [
    "# to return a list of recommended movies for 'The Dark Knight'\n",
    "# the simple recommender system has done a decent job at finding movies with similar plot, but the quality of recommendation \n",
    "# is not great\n",
    "get_recommendations('Gladiator')"
   ]
  },
  {
   "cell_type": "code",
   "execution_count": 91,
   "id": "578dd395",
   "metadata": {},
   "outputs": [
    {
     "data": {
      "text/plain": [
       "9641                  Inventing Anna\n",
       "5547                1 Chance 2 Dance\n",
       "2354                   Mr. Roosevelt\n",
       "4338    Komt een vrouw bij de dokter\n",
       "1943              Kotaro Lives Alone\n",
       "4734                 Eromanga Sensei\n",
       "5053                        Pompidou\n",
       "9321              Unsolved Mysteries\n",
       "1266                          Code 8\n",
       "4495                     First Class\n",
       "Name: title, dtype: object"
      ]
     },
     "execution_count": 91,
     "metadata": {},
     "output_type": "execute_result"
    }
   ],
   "source": [
    "get_recommendations('Titanic')"
   ]
  },
  {
   "cell_type": "code",
   "execution_count": 94,
   "id": "b7626511",
   "metadata": {},
   "outputs": [
    {
     "data": {
      "text/plain": [
       "78                  The Lord of the Rings: The Two Towers\n",
       "3482                              Godzilla Singular Point\n",
       "174                             Star Wars: The Clone Wars\n",
       "20      The Lord of the Rings: The Fellowship of the Ring\n",
       "9921    The Lord of the Rings: The Fellowship of the Ring\n",
       "2932                                   Planet of the Dead\n",
       "1174                        The Rising of the Shield Hero\n",
       "2493                                             #BlackAF\n",
       "449                                              Atypical\n",
       "2780                              Svaha: The Sixth Finger\n",
       "Name: title, dtype: object"
      ]
     },
     "execution_count": 94,
     "metadata": {},
     "output_type": "execute_result"
    }
   ],
   "source": [
    "get_recommendations('The Lord of the Rings: The Return of the King')"
   ]
  },
  {
   "cell_type": "code",
   "execution_count": 102,
   "id": "61361c01",
   "metadata": {},
   "outputs": [],
   "source": [
    "# Netflix Top most voted movies\n",
    "most_votes = df.groupby('title')['votes'].sum().sort_values(ascending=False).head(15)"
   ]
  },
  {
   "cell_type": "code",
   "execution_count": 113,
   "id": "f7539fe6",
   "metadata": {},
   "outputs": [
    {
     "data": {
      "image/png": "[encoded data removed]",
      "text/plain": [
       "<Figure size 640x480 with 1 Axes>"
      ]
     },
     "metadata": {},
     "output_type": "display_data"
    }
   ],
   "source": [
    "# to visualise in a barplot\n",
    "sns.barplot(x=most_votes.values, y=most_votes.index, palette='viridis')\n",
    "plt.title('Netflix most votes movies');"
   ]
  },
  {
   "cell_type": "code",
   "execution_count": 111,
   "id": "0c19c557",
   "metadata": {},
   "outputs": [],
   "source": [
    "# Netflix Top most voted movies\n",
    "highest_rating = df.groupby('title')['rating'].mean().sort_values(ascending=False).head(15)"
   ]
  },
  {
   "cell_type": "code",
   "execution_count": 114,
   "id": "12d84788",
   "metadata": {},
   "outputs": [
    {
     "data": {
      "image/png": "[encoded data removed]",
      "text/plain": [
       "<Figure size 640x480 with 1 Axes>"
      ]
     },
     "metadata": {},
     "output_type": "display_data"
    }
   ],
   "source": [
    "sns.barplot(x=highest_rating.values, y=highest_rating.index)\n",
    "plt.title('Netflix Highest rated movies');"
   ]
  },
  {
   "cell_type": "code",
   "execution_count": null,
   "id": "1054e3f9",
   "metadata": {},
   "outputs": [],
   "source": []
  }
 ],
 "metadata": {
  "kernelspec": {
   "display_name": "Python 3 (ipykernel)",
   "language": "python",
   "name": "python3"
  },
  "language_info": {
   "codemirror_mode": {
    "name": "ipython",
    "version": 3
   },
   "file_extension": ".py",
   "mimetype": "text/x-python",
   "name": "python",
   "nbconvert_exporter": "python",
   "pygments_lexer": "ipython3",
   "version": "3.11.5"
  }
 },
 "nbformat": 4,
 "nbformat_minor": 5
}
